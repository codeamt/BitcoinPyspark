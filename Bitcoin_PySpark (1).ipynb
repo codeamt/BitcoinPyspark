{
  "nbformat": 4,
  "nbformat_minor": 0,
  "metadata": {
    "colab": {
      "name": "Bitcoin-PySpark.ipynb",
      "version": "0.3.2",
      "provenance": [],
      "collapsed_sections": []
    },
    "kernelspec": {
      "name": "python3",
      "display_name": "Python 3"
    },
    "accelerator": "GPU"
  },
  "cells": [
    {
      "cell_type": "markdown",
      "metadata": {
        "id": "TggJpvOOaFaa",
        "colab_type": "text"
      },
      "source": [
        "# Bitcoin Market Price Forecasting with PySpark\n",
        "***"
      ]
    },
    {
      "cell_type": "markdown",
      "metadata": {
        "id": "oBDOewk3P-OQ",
        "colab_type": "text"
      },
      "source": [
        ""
      ]
    },
    {
      "cell_type": "markdown",
      "metadata": {
        "id": "42o8iRR8IfMb",
        "colab_type": "text"
      },
      "source": [
        "## Setting up a Spark runtime for Google Colab \n",
        "***"
      ]
    },
    {
      "cell_type": "markdown",
      "metadata": {
        "id": "yQalbdKVIqhJ",
        "colab_type": "text"
      },
      "source": [
        "  ### 1. Installing Dependencies \n",
        "   ***"
      ]
    },
    {
      "cell_type": "code",
      "metadata": {
        "id": "Fb-kEwRoscA7",
        "colab_type": "code",
        "outputId": "1b91bc13-e297-4d43-b727-443b82affae1",
        "colab": {
          "base_uri": "https://localhost:8080/",
          "height": 700
        }
      },
      "source": [
        "!apt-get install openjdk-8-jdk-headless -qq > /dev/null\n",
        "!wget -q http://apache.osuosl.org/spark/spark-2.3.3/spark-2.3.3-bin-hadoop2.7.tgz\n",
        "!tar xf spark-2.3.3-bin-hadoop2.7.tgz\n",
        "!pip install -q findspark\n",
        "!pip install flask==0.12.2\n",
        "!pip install flask-ngrok \n",
        "!pip install flask_cors\n"
      ],
      "execution_count": 0,
      "outputs": [
        {
          "output_type": "stream",
          "text": [
            "Collecting flask==0.12.2\n",
            "\u001b[?25l  Downloading https://files.pythonhosted.org/packages/77/32/e3597cb19ffffe724ad4bf0beca4153419918e7fa4ba6a34b04ee4da3371/Flask-0.12.2-py2.py3-none-any.whl (83kB)\n",
            "\r\u001b[K     |████                            | 10kB 15.9MB/s eta 0:00:01\r\u001b[K     |████████                        | 20kB 1.6MB/s eta 0:00:01\r\u001b[K     |███████████▉                    | 30kB 2.3MB/s eta 0:00:01\r\u001b[K     |███████████████▉                | 40kB 1.6MB/s eta 0:00:01\r\u001b[K     |███████████████████▊            | 51kB 2.0MB/s eta 0:00:01\r\u001b[K     |███████████████████████▊        | 61kB 2.3MB/s eta 0:00:01\r\u001b[K     |███████████████████████████▋    | 71kB 2.7MB/s eta 0:00:01\r\u001b[K     |███████████████████████████████▋| 81kB 3.0MB/s eta 0:00:01\r\u001b[K     |████████████████████████████████| 92kB 3.2MB/s \n",
            "\u001b[?25hRequirement already satisfied: itsdangerous>=0.21 in /usr/local/lib/python3.6/dist-packages (from flask==0.12.2) (1.1.0)\n",
            "Requirement already satisfied: Werkzeug>=0.7 in /usr/local/lib/python3.6/dist-packages (from flask==0.12.2) (0.15.4)\n",
            "Requirement already satisfied: Jinja2>=2.4 in /usr/local/lib/python3.6/dist-packages (from flask==0.12.2) (2.10.1)\n",
            "Requirement already satisfied: click>=2.0 in /usr/local/lib/python3.6/dist-packages (from flask==0.12.2) (7.0)\n",
            "Requirement already satisfied: MarkupSafe>=0.23 in /usr/local/lib/python3.6/dist-packages (from Jinja2>=2.4->flask==0.12.2) (1.1.1)\n",
            "Installing collected packages: flask\n",
            "  Found existing installation: Flask 1.0.3\n",
            "    Uninstalling Flask-1.0.3:\n",
            "      Successfully uninstalled Flask-1.0.3\n",
            "Successfully installed flask-0.12.2\n",
            "Collecting flask-ngrok\n",
            "  Downloading https://files.pythonhosted.org/packages/af/6c/f54cb686ad1129e27d125d182f90f52b32f284e6c8df58c1bae54fa1adbc/flask_ngrok-0.0.25-py3-none-any.whl\n",
            "Requirement already satisfied: Flask>=0.8 in /usr/local/lib/python3.6/dist-packages (from flask-ngrok) (0.12.2)\n",
            "Requirement already satisfied: requests in /usr/local/lib/python3.6/dist-packages (from flask-ngrok) (2.21.0)\n",
            "Requirement already satisfied: Jinja2>=2.4 in /usr/local/lib/python3.6/dist-packages (from Flask>=0.8->flask-ngrok) (2.10.1)\n",
            "Requirement already satisfied: Werkzeug>=0.7 in /usr/local/lib/python3.6/dist-packages (from Flask>=0.8->flask-ngrok) (0.15.4)\n",
            "Requirement already satisfied: click>=2.0 in /usr/local/lib/python3.6/dist-packages (from Flask>=0.8->flask-ngrok) (7.0)\n",
            "Requirement already satisfied: itsdangerous>=0.21 in /usr/local/lib/python3.6/dist-packages (from Flask>=0.8->flask-ngrok) (1.1.0)\n",
            "Requirement already satisfied: chardet<3.1.0,>=3.0.2 in /usr/local/lib/python3.6/dist-packages (from requests->flask-ngrok) (3.0.4)\n",
            "Requirement already satisfied: idna<2.9,>=2.5 in /usr/local/lib/python3.6/dist-packages (from requests->flask-ngrok) (2.8)\n",
            "Requirement already satisfied: urllib3<1.25,>=1.21.1 in /usr/local/lib/python3.6/dist-packages (from requests->flask-ngrok) (1.24.3)\n",
            "Requirement already satisfied: certifi>=2017.4.17 in /usr/local/lib/python3.6/dist-packages (from requests->flask-ngrok) (2019.6.16)\n",
            "Requirement already satisfied: MarkupSafe>=0.23 in /usr/local/lib/python3.6/dist-packages (from Jinja2>=2.4->Flask>=0.8->flask-ngrok) (1.1.1)\n",
            "Installing collected packages: flask-ngrok\n",
            "Successfully installed flask-ngrok-0.0.25\n",
            "Collecting flask_cors\n",
            "  Downloading https://files.pythonhosted.org/packages/78/38/e68b11daa5d613e3a91e4bf3da76c94ac9ee0d9cd515af9c1ab80d36f709/Flask_Cors-3.0.8-py2.py3-none-any.whl\n",
            "Requirement already satisfied: Six in /usr/local/lib/python3.6/dist-packages (from flask_cors) (1.12.0)\n",
            "Requirement already satisfied: Flask>=0.9 in /usr/local/lib/python3.6/dist-packages (from flask_cors) (0.12.2)\n",
            "Requirement already satisfied: Jinja2>=2.4 in /usr/local/lib/python3.6/dist-packages (from Flask>=0.9->flask_cors) (2.10.1)\n",
            "Requirement already satisfied: itsdangerous>=0.21 in /usr/local/lib/python3.6/dist-packages (from Flask>=0.9->flask_cors) (1.1.0)\n",
            "Requirement already satisfied: click>=2.0 in /usr/local/lib/python3.6/dist-packages (from Flask>=0.9->flask_cors) (7.0)\n",
            "Requirement already satisfied: Werkzeug>=0.7 in /usr/local/lib/python3.6/dist-packages (from Flask>=0.9->flask_cors) (0.15.4)\n",
            "Requirement already satisfied: MarkupSafe>=0.23 in /usr/local/lib/python3.6/dist-packages (from Jinja2>=2.4->Flask>=0.9->flask_cors) (1.1.1)\n",
            "Installing collected packages: flask-cors\n",
            "Successfully installed flask-cors-3.0.8\n"
          ],
          "name": "stdout"
        }
      ]
    },
    {
      "cell_type": "markdown",
      "metadata": {
        "id": "hZVtVmUGmxm3",
        "colab_type": "text"
      },
      "source": [
        "### 2. Assigning Environment Variables\n",
        "***"
      ]
    },
    {
      "cell_type": "code",
      "metadata": {
        "id": "bEN3FayJx9GO",
        "colab_type": "code",
        "colab": {}
      },
      "source": [
        "import os\n",
        "os.environ[\"JAVA_HOME\"] = \"/usr/lib/jvm/java-8-openjdk-amd64\"\n",
        "os.environ[\"SPARK_HOME\"] = \"/content/spark-2.3.3-bin-hadoop2.7\"\n",
        "import findspark\n",
        "findspark.init()"
      ],
      "execution_count": 0,
      "outputs": []
    },
    {
      "cell_type": "markdown",
      "metadata": {
        "id": "xa9Yz-WQmzGO",
        "colab_type": "text"
      },
      "source": [
        "### 3. Launch a Spark Session with PySpark Library \n",
        "***"
      ]
    },
    {
      "cell_type": "code",
      "metadata": {
        "id": "VEaS00bB55hq",
        "colab_type": "code",
        "outputId": "8b0534f2-a97d-4be9-c6c2-49bad46cac60",
        "colab": {
          "base_uri": "https://localhost:8080/",
          "height": 216
        }
      },
      "source": [
        "import pyspark\n",
        "from pyspark.sql import SparkSession\n",
        "spark = SparkSession.builder.master(\"local[*]\").getOrCreate()\n",
        "spark"
      ],
      "execution_count": 0,
      "outputs": [
        {
          "output_type": "execute_result",
          "data": {
            "text/html": [
              "\n",
              "            <div>\n",
              "                <p><b>SparkSession - in-memory</b></p>\n",
              "                \n",
              "        <div>\n",
              "            <p><b>SparkContext</b></p>\n",
              "\n",
              "            <p><a href=\"http://c40ef152a033:4040\">Spark UI</a></p>\n",
              "\n",
              "            <dl>\n",
              "              <dt>Version</dt>\n",
              "                <dd><code>v2.3.3</code></dd>\n",
              "              <dt>Master</dt>\n",
              "                <dd><code>local[*]</code></dd>\n",
              "              <dt>AppName</dt>\n",
              "                <dd><code>pyspark-shell</code></dd>\n",
              "            </dl>\n",
              "        </div>\n",
              "        \n",
              "            </div>\n",
              "        "
            ],
            "text/plain": [
              "<pyspark.sql.session.SparkSession at 0x7fb7edaf05c0>"
            ]
          },
          "metadata": {
            "tags": []
          },
          "execution_count": 3
        }
      ]
    },
    {
      "cell_type": "markdown",
      "metadata": {
        "id": "4SSoGMynK5XI",
        "colab_type": "text"
      },
      "source": [
        "### 4. Import Utility/Data Science Libraries \n",
        "***"
      ]
    },
    {
      "cell_type": "code",
      "metadata": {
        "id": "xXPHHL8lu_jm",
        "colab_type": "code",
        "outputId": "fa6fa290-747a-409d-b763-9d8aee75c0ac",
        "colab": {
          "base_uri": "https://localhost:8080/",
          "height": 34
        }
      },
      "source": [
        "#General System Utilities\n",
        "import sys\n",
        "from datetime import datetime\n",
        "import pickle\n",
        "\n",
        "#Data Processing Libraries \n",
        "import numpy as np\n",
        "import pandas as pd\n",
        "from pandas import concat\n",
        "import matplotlib.pyplot as plt\n",
        "from fastai.tabular import *\n",
        "import six\n",
        "\n",
        "#Pyspark/SQL libs \n",
        "from pyspark.sql.functions import col, udf\n",
        "from pyspark.sql.types import DateType, IntegerType, FloatType\n",
        "import seaborn as sns\n",
        "from pyspark.ml.feature import VectorAssembler\n",
        "from pyspark.ml.regression import LinearRegression\n",
        "\n",
        "#DS/DL Libs \n",
        "import sklearn\n",
        "from sklearn.linear_model import LinearRegression as sklearnLR\n",
        "from sklearn.feature_selection import RFE\n",
        "from sklearn.preprocessing import MinMaxScaler\n",
        "from keras.models import Sequential\n",
        "from keras.layers import Dense, Dropout, LSTM, GRU\n",
        "from keras import optimizers\n",
        "from sklearn.preprocessing import MinMaxScaler"
      ],
      "execution_count": 0,
      "outputs": [
        {
          "output_type": "stream",
          "text": [
            "Using TensorFlow backend.\n"
          ],
          "name": "stderr"
        }
      ]
    },
    {
      "cell_type": "markdown",
      "metadata": {
        "id": "KllAKiaQvKXL",
        "colab_type": "text"
      },
      "source": [
        "## Problem Statement/Accessing the Data\n",
        "***"
      ]
    },
    {
      "cell_type": "markdown",
      "metadata": {
        "id": "n1fXlPWTm0rz",
        "colab_type": "text"
      },
      "source": [
        "### 1. The Problem Statement\n",
        "***\n",
        "Problem Type: Multivariate Timeseries Forecasting"
      ]
    },
    {
      "cell_type": "markdown",
      "metadata": {
        "id": "6m5emZcwm0-I",
        "colab_type": "text"
      },
      "source": [
        "### 2. Importing the Data File\n",
        "***\n",
        "\n"
      ]
    },
    {
      "cell_type": "code",
      "metadata": {
        "id": "qr1VsG9zDfNs",
        "colab_type": "code",
        "outputId": "4ab702e6-1bce-4676-aed1-99f897e9010d",
        "colab": {
          "base_uri": "https://localhost:8080/",
          "height": 54
        }
      },
      "source": [
        "func =  udf (lambda x: datetime.strptime(x, \"%m/%d/%y\"), DateType())\n",
        "btc_data_df = spark.read.format('com.databricks.spark.csv').options(header='true', inferschema='true').load('btc_data.csv')\n",
        "btc_data_df = btc_data_df.withColumn('Date', func(col('Date')))\n",
        "btc_data_df.take(1)"
      ],
      "execution_count": 0,
      "outputs": [
        {
          "output_type": "execute_result",
          "data": {
            "text/plain": [
              "[Row(Date=datetime.date(2009, 1, 3), Coin Supply=50, Market Price (USD)=0.0, Market Cap (USD)=0.0, Trade Volume (USD)=0.0, Blockchain Size=0, Avg Block Sz (MB)=0.000285, Avg Txs/Block=1, Median Tx Confirm Time (Minutes)=0.0, Hash Rate (TH/s)=0.0, Mining Difficulty=1, Mining Revenue (USD)=0.0, Tx Fees (BTC)=0, Tx Fees (USD)=0.0, Cost/Tx %=0.0, Cost/Tx (USD)=0.0, N-Unique Addresses=1, N-Confirmed Txs/Day=1, N-Txs=1, N-Txs (Excluding Top 100)=1, Tx Output Value (BTC)=50, Total Est Tx Value (BTC)=0, Total Est Tx Value (USD)=0.0)]"
            ]
          },
          "metadata": {
            "tags": []
          },
          "execution_count": 5
        }
      ]
    },
    {
      "cell_type": "markdown",
      "metadata": {
        "id": "S66RplfAm3UU",
        "colab_type": "text"
      },
      "source": [
        "### 3. Exploring the Data Structure \n",
        "***"
      ]
    },
    {
      "cell_type": "code",
      "metadata": {
        "id": "hrJQXl56mq7P",
        "colab_type": "code",
        "outputId": "71dea621-cd22-4d10-d88a-65aa057c5d50",
        "colab": {
          "base_uri": "https://localhost:8080/",
          "height": 442
        }
      },
      "source": [
        "btc_data_df.cache()\n",
        "btc_data_df.printSchema()"
      ],
      "execution_count": 0,
      "outputs": [
        {
          "output_type": "stream",
          "text": [
            "root\n",
            " |-- Date: date (nullable = true)\n",
            " |-- Coin Supply: integer (nullable = true)\n",
            " |-- Market Price (USD): double (nullable = true)\n",
            " |-- Market Cap (USD): double (nullable = true)\n",
            " |-- Trade Volume (USD): double (nullable = true)\n",
            " |-- Blockchain Size: integer (nullable = true)\n",
            " |-- Avg Block Sz (MB): double (nullable = true)\n",
            " |-- Avg Txs/Block: integer (nullable = true)\n",
            " |-- Median Tx Confirm Time (Minutes): double (nullable = true)\n",
            " |-- Hash Rate (TH/s): double (nullable = true)\n",
            " |-- Mining Difficulty: long (nullable = true)\n",
            " |-- Mining Revenue (USD): double (nullable = true)\n",
            " |-- Tx Fees (BTC): integer (nullable = true)\n",
            " |-- Tx Fees (USD): double (nullable = true)\n",
            " |-- Cost/Tx %: double (nullable = true)\n",
            " |-- Cost/Tx (USD): double (nullable = true)\n",
            " |-- N-Unique Addresses: integer (nullable = true)\n",
            " |-- N-Confirmed Txs/Day: integer (nullable = true)\n",
            " |-- N-Txs: integer (nullable = true)\n",
            " |-- N-Txs (Excluding Top 100): integer (nullable = true)\n",
            " |-- Tx Output Value (BTC): integer (nullable = true)\n",
            " |-- Total Est Tx Value (BTC): integer (nullable = true)\n",
            " |-- Total Est Tx Value (USD): double (nullable = true)\n",
            "\n"
          ],
          "name": "stdout"
        }
      ]
    },
    {
      "cell_type": "markdown",
      "metadata": {
        "id": "8IdSwiFnm5KC",
        "colab_type": "text"
      },
      "source": [
        "## Feature Engineering\n",
        "***\n",
        "\n"
      ]
    },
    {
      "cell_type": "markdown",
      "metadata": {
        "id": "OTRTVgaHH7S2",
        "colab_type": "text"
      },
      "source": [
        "### 1. Augmenting Date\n",
        "***"
      ]
    },
    {
      "cell_type": "markdown",
      "metadata": {
        "id": "93TPVZEw92Hl",
        "colab_type": "text"
      },
      "source": [
        "**1a. Unroll Date with Fast.ai Tabular Model**"
      ]
    },
    {
      "cell_type": "code",
      "metadata": {
        "id": "wJhrv8yj0eql",
        "colab_type": "code",
        "outputId": "84d6c345-34ea-4f87-8fe1-f967e87a0e0e",
        "colab": {
          "base_uri": "https://localhost:8080/",
          "height": 663
        }
      },
      "source": [
        "expanded_btc_df = add_datepart(btc_data_df.toPandas(), \"Date\", drop=False)\n",
        "expanded_btc_df = spark.createDataFrame(expanded_btc_df)\n",
        "expanded_btc_df = expanded_btc_df.fillna(0)\n",
        "expanded_btc_df.cache()\n",
        "expanded_btc_df.printSchema()\n"
      ],
      "execution_count": 0,
      "outputs": [
        {
          "output_type": "stream",
          "text": [
            "root\n",
            " |-- Date: timestamp (nullable = true)\n",
            " |-- Coin Supply: long (nullable = true)\n",
            " |-- Market Price (USD): double (nullable = false)\n",
            " |-- Market Cap (USD): double (nullable = false)\n",
            " |-- Trade Volume (USD): double (nullable = false)\n",
            " |-- Blockchain Size: long (nullable = true)\n",
            " |-- Avg Block Sz (MB): double (nullable = false)\n",
            " |-- Avg Txs/Block: long (nullable = true)\n",
            " |-- Median Tx Confirm Time (Minutes): double (nullable = false)\n",
            " |-- Hash Rate (TH/s): double (nullable = false)\n",
            " |-- Mining Difficulty: long (nullable = true)\n",
            " |-- Mining Revenue (USD): double (nullable = false)\n",
            " |-- Tx Fees (BTC): long (nullable = true)\n",
            " |-- Tx Fees (USD): double (nullable = false)\n",
            " |-- Cost/Tx %: double (nullable = false)\n",
            " |-- Cost/Tx (USD): double (nullable = false)\n",
            " |-- N-Unique Addresses: double (nullable = false)\n",
            " |-- N-Confirmed Txs/Day: long (nullable = true)\n",
            " |-- N-Txs: long (nullable = true)\n",
            " |-- N-Txs (Excluding Top 100): long (nullable = true)\n",
            " |-- Tx Output Value (BTC): long (nullable = true)\n",
            " |-- Total Est Tx Value (BTC): long (nullable = true)\n",
            " |-- Total Est Tx Value (USD): double (nullable = false)\n",
            " |-- Year: long (nullable = true)\n",
            " |-- Month: long (nullable = true)\n",
            " |-- Week: long (nullable = true)\n",
            " |-- Day: long (nullable = true)\n",
            " |-- Dayofweek: long (nullable = true)\n",
            " |-- Dayofyear: long (nullable = true)\n",
            " |-- Is_month_end: boolean (nullable = true)\n",
            " |-- Is_month_start: boolean (nullable = true)\n",
            " |-- Is_quarter_end: boolean (nullable = true)\n",
            " |-- Is_quarter_start: boolean (nullable = true)\n",
            " |-- Is_year_end: boolean (nullable = true)\n",
            " |-- Is_year_start: boolean (nullable = true)\n",
            " |-- Elapsed: long (nullable = true)\n",
            "\n"
          ],
          "name": "stdout"
        }
      ]
    },
    {
      "cell_type": "markdown",
      "metadata": {
        "id": "LwqXuzB4OXR6",
        "colab_type": "text"
      },
      "source": [
        "### 2. Categorize Features\n",
        "***"
      ]
    },
    {
      "cell_type": "markdown",
      "metadata": {
        "id": "a66C_zr6St_k",
        "colab_type": "text"
      },
      "source": [
        "**2a. Categorize**"
      ]
    },
    {
      "cell_type": "code",
      "metadata": {
        "id": "Xo-tW0AByp6G",
        "colab_type": "code",
        "colab": {}
      },
      "source": [
        "#Dependent Var\n",
        "dep_var = 'Market Price (USD)'\n",
        "\n",
        "\n",
        "#For quick access \n",
        "all_columns = expanded_btc_df.columns\n",
        "\n",
        "\n",
        "#Categorical\n",
        "categ_columns = ['Year', 'Month', 'Week', 'Day', 'Dayofweek', 'Dayofyear']\n",
        "\n",
        "#Continuous \n",
        "cont_columns = ['Coin Supply',\t'Market Cap (USD)',\t'Trade Volume (USD)',\t'Blockchain Size',\t'Avg Block Sz (MB)',\t\n",
        "                'Avg Txs/Block',\t'Median Tx Confirm Time (Minutes)', 'Hash Rate (TH/s)',\t'Mining Difficulty',\t\n",
        "                'Mining Revenue (USD)',\t'Tx Fees (BTC)', 'Tx Fees (USD)',\t'Cost/Tx %', 'Elapsed',\n",
        "                'Cost/Tx (USD)',\t'N-Unique Addresses',\t'N-Confirmed Txs/Day',\t'N-Txs',\t'N-Txs (Excluding Top 100)',\n",
        "                'Tx Output Value (BTC)','Total Est Tx Value (BTC)','Total Est Tx Value (USD)']\n",
        "\n",
        "\n",
        "tf_columns=['Is_month_end', 'Is_month_start',\n",
        "        'Is_quarter_end', 'Is_quarter_start', 'Is_year_end', 'Is_year_start']\n"
      ],
      "execution_count": 0,
      "outputs": []
    },
    {
      "cell_type": "markdown",
      "metadata": {
        "id": "Jp_-HsU7_B8K",
        "colab_type": "text"
      },
      "source": [
        "**2b. Reformat True/False to Binary Scale**"
      ]
    },
    {
      "cell_type": "code",
      "metadata": {
        "id": "PF80Apk1_CNn",
        "colab_type": "code",
        "outputId": "19420705-99e0-4025-dbee-65322db962f8",
        "colab": {
          "base_uri": "https://localhost:8080/",
          "height": 221
        }
      },
      "source": [
        "for col_name in tf_columns:\n",
        "    expanded_btc_df = expanded_btc_df.withColumn(col_name, col(col_name).cast('int'))  \n",
        "\n",
        "print(\"Sample of a binary column transformed: \")    \n",
        "expanded_btc_df.toPandas().Is_month_end[:10]"
      ],
      "execution_count": 0,
      "outputs": [
        {
          "output_type": "stream",
          "text": [
            "Sample of a binary column transformed: \n"
          ],
          "name": "stdout"
        },
        {
          "output_type": "execute_result",
          "data": {
            "text/plain": [
              "0    0\n",
              "1    0\n",
              "2    0\n",
              "3    0\n",
              "4    0\n",
              "5    0\n",
              "6    0\n",
              "7    0\n",
              "8    0\n",
              "9    0\n",
              "Name: Is_month_end, dtype: int32"
            ]
          },
          "metadata": {
            "tags": []
          },
          "execution_count": 9
        }
      ]
    },
    {
      "cell_type": "markdown",
      "metadata": {
        "id": "J5dGzGHxnF9q",
        "colab_type": "text"
      },
      "source": [
        "### 3. Statistical Analysis of DataFrame\n",
        "****\n"
      ]
    },
    {
      "cell_type": "markdown",
      "metadata": {
        "id": "O2KsgHVNRGn_",
        "colab_type": "text"
      },
      "source": [
        "**3a. Reset Index of Time Series to Date**"
      ]
    },
    {
      "cell_type": "code",
      "metadata": {
        "id": "ljkj_S1Om2Tw",
        "colab_type": "code",
        "colab": {}
      },
      "source": [
        "expanded_btc_df.toPandas().index = expanded_btc_df.toPandas()['Date']\n"
      ],
      "execution_count": 0,
      "outputs": []
    },
    {
      "cell_type": "markdown",
      "metadata": {
        "id": "ioPD5LDtnIB5",
        "colab_type": "text"
      },
      "source": [
        "**3b. Tabulate Statitcal Moments**"
      ]
    },
    {
      "cell_type": "code",
      "metadata": {
        "id": "2GUiVJdOpFL_",
        "colab_type": "code",
        "outputId": "3eeaf086-e494-4f22-845e-22a8cc5bb055",
        "colab": {
          "base_uri": "https://localhost:8080/",
          "height": 1000
        }
      },
      "source": [
        "pd.set_option('display.max_colwidth', -1)\n",
        "expanded_btc_df.toPandas().describe().transpose()"
      ],
      "execution_count": 0,
      "outputs": [
        {
          "output_type": "execute_result",
          "data": {
            "text/html": [
              "<div>\n",
              "<style scoped>\n",
              "    .dataframe tbody tr th:only-of-type {\n",
              "        vertical-align: middle;\n",
              "    }\n",
              "\n",
              "    .dataframe tbody tr th {\n",
              "        vertical-align: top;\n",
              "    }\n",
              "\n",
              "    .dataframe thead th {\n",
              "        text-align: right;\n",
              "    }\n",
              "</style>\n",
              "<table border=\"1\" class=\"dataframe\">\n",
              "  <thead>\n",
              "    <tr style=\"text-align: right;\">\n",
              "      <th></th>\n",
              "      <th>count</th>\n",
              "      <th>mean</th>\n",
              "      <th>std</th>\n",
              "      <th>min</th>\n",
              "      <th>25%</th>\n",
              "      <th>50%</th>\n",
              "      <th>75%</th>\n",
              "      <th>max</th>\n",
              "    </tr>\n",
              "  </thead>\n",
              "  <tbody>\n",
              "    <tr>\n",
              "      <th>Coin Supply</th>\n",
              "      <td>1268.0</td>\n",
              "      <td>1.107565e+07</td>\n",
              "      <td>5.450896e+06</td>\n",
              "      <td>5.000000e+01</td>\n",
              "      <td>7.029625e+06</td>\n",
              "      <td>1.253229e+07</td>\n",
              "      <td>1.594668e+07</td>\n",
              "      <td>1.773586e+07</td>\n",
              "    </tr>\n",
              "    <tr>\n",
              "      <th>Market Price (USD)</th>\n",
              "      <td>1268.0</td>\n",
              "      <td>1.453684e+03</td>\n",
              "      <td>2.853359e+03</td>\n",
              "      <td>0.000000e+00</td>\n",
              "      <td>4.765000e+00</td>\n",
              "      <td>2.389950e+02</td>\n",
              "      <td>7.835575e+02</td>\n",
              "      <td>1.928979e+04</td>\n",
              "    </tr>\n",
              "    <tr>\n",
              "      <th>Market Cap (USD)</th>\n",
              "      <td>1268.0</td>\n",
              "      <td>2.426743e+10</td>\n",
              "      <td>4.858195e+10</td>\n",
              "      <td>0.000000e+00</td>\n",
              "      <td>3.736004e+07</td>\n",
              "      <td>3.424074e+09</td>\n",
              "      <td>1.142555e+10</td>\n",
              "      <td>3.230718e+11</td>\n",
              "    </tr>\n",
              "    <tr>\n",
              "      <th>Trade Volume (USD)</th>\n",
              "      <td>1268.0</td>\n",
              "      <td>1.116639e+08</td>\n",
              "      <td>3.086776e+08</td>\n",
              "      <td>0.000000e+00</td>\n",
              "      <td>1.184391e+05</td>\n",
              "      <td>1.017620e+07</td>\n",
              "      <td>4.639431e+07</td>\n",
              "      <td>3.800433e+09</td>\n",
              "    </tr>\n",
              "    <tr>\n",
              "      <th>Blockchain Size</th>\n",
              "      <td>1268.0</td>\n",
              "      <td>5.067764e+04</td>\n",
              "      <td>6.560066e+04</td>\n",
              "      <td>0.000000e+00</td>\n",
              "      <td>3.200000e+02</td>\n",
              "      <td>1.611100e+04</td>\n",
              "      <td>8.730225e+04</td>\n",
              "      <td>2.213460e+05</td>\n",
              "    </tr>\n",
              "    <tr>\n",
              "      <th>Avg Block Sz (MB)</th>\n",
              "      <td>1268.0</td>\n",
              "      <td>3.879263e-01</td>\n",
              "      <td>3.951660e-01</td>\n",
              "      <td>0.000000e+00</td>\n",
              "      <td>1.768084e-02</td>\n",
              "      <td>2.140232e-01</td>\n",
              "      <td>7.804961e-01</td>\n",
              "      <td>1.261405e+00</td>\n",
              "    </tr>\n",
              "    <tr>\n",
              "      <th>Avg Txs/Block</th>\n",
              "      <td>1268.0</td>\n",
              "      <td>7.322744e+02</td>\n",
              "      <td>7.617208e+02</td>\n",
              "      <td>1.000000e+00</td>\n",
              "      <td>3.900000e+01</td>\n",
              "      <td>3.895000e+02</td>\n",
              "      <td>1.394250e+03</td>\n",
              "      <td>2.763000e+03</td>\n",
              "    </tr>\n",
              "    <tr>\n",
              "      <th>Median Tx Confirm Time (Minutes)</th>\n",
              "      <td>1268.0</td>\n",
              "      <td>6.968825e+00</td>\n",
              "      <td>5.068992e+00</td>\n",
              "      <td>0.000000e+00</td>\n",
              "      <td>0.000000e+00</td>\n",
              "      <td>7.780000e+00</td>\n",
              "      <td>9.950000e+00</td>\n",
              "      <td>2.895000e+01</td>\n",
              "    </tr>\n",
              "    <tr>\n",
              "      <th>Hash Rate (TH/s)</th>\n",
              "      <td>1268.0</td>\n",
              "      <td>6.162973e+06</td>\n",
              "      <td>1.397446e+07</td>\n",
              "      <td>0.000000e+00</td>\n",
              "      <td>8.670000e+00</td>\n",
              "      <td>3.644571e+04</td>\n",
              "      <td>1.819071e+06</td>\n",
              "      <td>6.008953e+07</td>\n",
              "    </tr>\n",
              "    <tr>\n",
              "      <th>Mining Difficulty</th>\n",
              "      <td>1268.0</td>\n",
              "      <td>8.334912e+11</td>\n",
              "      <td>1.895858e+12</td>\n",
              "      <td>0.000000e+00</td>\n",
              "      <td>1.192498e+06</td>\n",
              "      <td>4.250218e+09</td>\n",
              "      <td>2.538687e+11</td>\n",
              "      <td>7.459681e+12</td>\n",
              "    </tr>\n",
              "    <tr>\n",
              "      <th>Mining Revenue (USD)</th>\n",
              "      <td>1268.0</td>\n",
              "      <td>3.201785e+06</td>\n",
              "      <td>6.193093e+06</td>\n",
              "      <td>0.000000e+00</td>\n",
              "      <td>3.203334e+04</td>\n",
              "      <td>9.133988e+05</td>\n",
              "      <td>2.487779e+06</td>\n",
              "      <td>5.319158e+07</td>\n",
              "    </tr>\n",
              "    <tr>\n",
              "      <th>Tx Fees (BTC)</th>\n",
              "      <td>1268.0</td>\n",
              "      <td>5.115457e+01</td>\n",
              "      <td>1.031918e+02</td>\n",
              "      <td>0.000000e+00</td>\n",
              "      <td>4.000000e+00</td>\n",
              "      <td>1.900000e+01</td>\n",
              "      <td>4.400000e+01</td>\n",
              "      <td>1.066000e+03</td>\n",
              "    </tr>\n",
              "    <tr>\n",
              "      <th>Tx Fees (USD)</th>\n",
              "      <td>1268.0</td>\n",
              "      <td>2.391026e+05</td>\n",
              "      <td>1.198014e+06</td>\n",
              "      <td>0.000000e+00</td>\n",
              "      <td>1.769500e+01</td>\n",
              "      <td>4.720725e+03</td>\n",
              "      <td>5.017996e+04</td>\n",
              "      <td>1.636813e+07</td>\n",
              "    </tr>\n",
              "    <tr>\n",
              "      <th>Cost/Tx %</th>\n",
              "      <td>1268.0</td>\n",
              "      <td>2.013100e+02</td>\n",
              "      <td>3.834805e+03</td>\n",
              "      <td>0.000000e+00</td>\n",
              "      <td>1.080000e+00</td>\n",
              "      <td>2.060000e+00</td>\n",
              "      <td>5.692500e+00</td>\n",
              "      <td>1.316667e+05</td>\n",
              "    </tr>\n",
              "    <tr>\n",
              "      <th>Cost/Tx (USD)</th>\n",
              "      <td>1268.0</td>\n",
              "      <td>1.805009e+01</td>\n",
              "      <td>2.499184e+01</td>\n",
              "      <td>0.000000e+00</td>\n",
              "      <td>2.767500e+00</td>\n",
              "      <td>7.980000e+00</td>\n",
              "      <td>2.338500e+01</td>\n",
              "      <td>1.616900e+02</td>\n",
              "    </tr>\n",
              "    <tr>\n",
              "      <th>N-Unique Addresses</th>\n",
              "      <td>1268.0</td>\n",
              "      <td>2.057625e+05</td>\n",
              "      <td>2.156622e+05</td>\n",
              "      <td>0.000000e+00</td>\n",
              "      <td>1.035825e+04</td>\n",
              "      <td>1.355010e+05</td>\n",
              "      <td>4.056055e+05</td>\n",
              "      <td>1.072861e+06</td>\n",
              "    </tr>\n",
              "    <tr>\n",
              "      <th>N-Confirmed Txs/Day</th>\n",
              "      <td>1268.0</td>\n",
              "      <td>1.105909e+05</td>\n",
              "      <td>1.133600e+05</td>\n",
              "      <td>0.000000e+00</td>\n",
              "      <td>5.824500e+03</td>\n",
              "      <td>6.456700e+04</td>\n",
              "      <td>2.127730e+05</td>\n",
              "      <td>4.906440e+05</td>\n",
              "    </tr>\n",
              "    <tr>\n",
              "      <th>N-Txs</th>\n",
              "      <td>1268.0</td>\n",
              "      <td>9.713248e+07</td>\n",
              "      <td>1.235378e+08</td>\n",
              "      <td>1.000000e+00</td>\n",
              "      <td>1.264202e+06</td>\n",
              "      <td>3.514236e+07</td>\n",
              "      <td>1.653985e+08</td>\n",
              "      <td>4.195815e+08</td>\n",
              "    </tr>\n",
              "    <tr>\n",
              "      <th>N-Txs (Excluding Top 100)</th>\n",
              "      <td>1268.0</td>\n",
              "      <td>1.032173e+05</td>\n",
              "      <td>1.118628e+05</td>\n",
              "      <td>0.000000e+00</td>\n",
              "      <td>4.930500e+03</td>\n",
              "      <td>5.633500e+04</td>\n",
              "      <td>2.053600e+05</td>\n",
              "      <td>4.706500e+05</td>\n",
              "    </tr>\n",
              "    <tr>\n",
              "      <th>Tx Output Value (BTC)</th>\n",
              "      <td>1268.0</td>\n",
              "      <td>1.347184e+06</td>\n",
              "      <td>1.980612e+06</td>\n",
              "      <td>0.000000e+00</td>\n",
              "      <td>3.483088e+05</td>\n",
              "      <td>9.678015e+05</td>\n",
              "      <td>1.816286e+06</td>\n",
              "      <td>3.843336e+07</td>\n",
              "    </tr>\n",
              "    <tr>\n",
              "      <th>Total Est Tx Value (BTC)</th>\n",
              "      <td>1268.0</td>\n",
              "      <td>1.724228e+05</td>\n",
              "      <td>2.431771e+05</td>\n",
              "      <td>0.000000e+00</td>\n",
              "      <td>6.780050e+04</td>\n",
              "      <td>1.461175e+05</td>\n",
              "      <td>2.322270e+05</td>\n",
              "      <td>5.313161e+06</td>\n",
              "    </tr>\n",
              "    <tr>\n",
              "      <th>Total Est Tx Value (USD)</th>\n",
              "      <td>1268.0</td>\n",
              "      <td>2.616699e+08</td>\n",
              "      <td>5.769284e+08</td>\n",
              "      <td>0.000000e+00</td>\n",
              "      <td>4.829790e+05</td>\n",
              "      <td>4.011726e+07</td>\n",
              "      <td>2.013630e+08</td>\n",
              "      <td>5.152140e+09</td>\n",
              "    </tr>\n",
              "    <tr>\n",
              "      <th>Year</th>\n",
              "      <td>1268.0</td>\n",
              "      <td>2.013722e+03</td>\n",
              "      <td>3.014341e+00</td>\n",
              "      <td>2.009000e+03</td>\n",
              "      <td>2.011000e+03</td>\n",
              "      <td>2.014000e+03</td>\n",
              "      <td>2.016000e+03</td>\n",
              "      <td>2.019000e+03</td>\n",
              "    </tr>\n",
              "    <tr>\n",
              "      <th>Month</th>\n",
              "      <td>1268.0</td>\n",
              "      <td>6.388801e+00</td>\n",
              "      <td>3.460833e+00</td>\n",
              "      <td>1.000000e+00</td>\n",
              "      <td>3.000000e+00</td>\n",
              "      <td>6.000000e+00</td>\n",
              "      <td>9.000000e+00</td>\n",
              "      <td>1.200000e+01</td>\n",
              "    </tr>\n",
              "    <tr>\n",
              "      <th>Week</th>\n",
              "      <td>1268.0</td>\n",
              "      <td>2.603076e+01</td>\n",
              "      <td>1.510426e+01</td>\n",
              "      <td>1.000000e+00</td>\n",
              "      <td>1.300000e+01</td>\n",
              "      <td>2.600000e+01</td>\n",
              "      <td>3.900000e+01</td>\n",
              "      <td>5.300000e+01</td>\n",
              "    </tr>\n",
              "    <tr>\n",
              "      <th>Day</th>\n",
              "      <td>1268.0</td>\n",
              "      <td>1.571136e+01</td>\n",
              "      <td>8.800353e+00</td>\n",
              "      <td>1.000000e+00</td>\n",
              "      <td>8.000000e+00</td>\n",
              "      <td>1.600000e+01</td>\n",
              "      <td>2.300000e+01</td>\n",
              "      <td>3.100000e+01</td>\n",
              "    </tr>\n",
              "    <tr>\n",
              "      <th>Dayofweek</th>\n",
              "      <td>1268.0</td>\n",
              "      <td>3.001577e+00</td>\n",
              "      <td>2.000788e+00</td>\n",
              "      <td>0.000000e+00</td>\n",
              "      <td>1.000000e+00</td>\n",
              "      <td>3.000000e+00</td>\n",
              "      <td>5.000000e+00</td>\n",
              "      <td>6.000000e+00</td>\n",
              "    </tr>\n",
              "    <tr>\n",
              "      <th>Dayofyear</th>\n",
              "      <td>1268.0</td>\n",
              "      <td>1.789771e+02</td>\n",
              "      <td>1.057576e+02</td>\n",
              "      <td>1.000000e+00</td>\n",
              "      <td>8.700000e+01</td>\n",
              "      <td>1.755000e+02</td>\n",
              "      <td>2.702500e+02</td>\n",
              "      <td>3.660000e+02</td>\n",
              "    </tr>\n",
              "    <tr>\n",
              "      <th>Is_month_end</th>\n",
              "      <td>1268.0</td>\n",
              "      <td>3.154574e-02</td>\n",
              "      <td>1.748563e-01</td>\n",
              "      <td>0.000000e+00</td>\n",
              "      <td>0.000000e+00</td>\n",
              "      <td>0.000000e+00</td>\n",
              "      <td>0.000000e+00</td>\n",
              "      <td>1.000000e+00</td>\n",
              "    </tr>\n",
              "    <tr>\n",
              "      <th>Is_month_start</th>\n",
              "      <td>1268.0</td>\n",
              "      <td>3.233438e-02</td>\n",
              "      <td>1.769564e-01</td>\n",
              "      <td>0.000000e+00</td>\n",
              "      <td>0.000000e+00</td>\n",
              "      <td>0.000000e+00</td>\n",
              "      <td>0.000000e+00</td>\n",
              "      <td>1.000000e+00</td>\n",
              "    </tr>\n",
              "    <tr>\n",
              "      <th>Is_quarter_end</th>\n",
              "      <td>1268.0</td>\n",
              "      <td>1.025237e-02</td>\n",
              "      <td>1.007733e-01</td>\n",
              "      <td>0.000000e+00</td>\n",
              "      <td>0.000000e+00</td>\n",
              "      <td>0.000000e+00</td>\n",
              "      <td>0.000000e+00</td>\n",
              "      <td>1.000000e+00</td>\n",
              "    </tr>\n",
              "    <tr>\n",
              "      <th>Is_quarter_start</th>\n",
              "      <td>1268.0</td>\n",
              "      <td>1.025237e-02</td>\n",
              "      <td>1.007733e-01</td>\n",
              "      <td>0.000000e+00</td>\n",
              "      <td>0.000000e+00</td>\n",
              "      <td>0.000000e+00</td>\n",
              "      <td>0.000000e+00</td>\n",
              "      <td>1.000000e+00</td>\n",
              "    </tr>\n",
              "    <tr>\n",
              "      <th>Is_year_end</th>\n",
              "      <td>1268.0</td>\n",
              "      <td>3.154574e-03</td>\n",
              "      <td>5.609906e-02</td>\n",
              "      <td>0.000000e+00</td>\n",
              "      <td>0.000000e+00</td>\n",
              "      <td>0.000000e+00</td>\n",
              "      <td>0.000000e+00</td>\n",
              "      <td>1.000000e+00</td>\n",
              "    </tr>\n",
              "    <tr>\n",
              "      <th>Is_year_start</th>\n",
              "      <td>1268.0</td>\n",
              "      <td>2.365931e-03</td>\n",
              "      <td>4.860243e-02</td>\n",
              "      <td>0.000000e+00</td>\n",
              "      <td>0.000000e+00</td>\n",
              "      <td>0.000000e+00</td>\n",
              "      <td>0.000000e+00</td>\n",
              "      <td>1.000000e+00</td>\n",
              "    </tr>\n",
              "    <tr>\n",
              "      <th>Elapsed</th>\n",
              "      <td>1268.0</td>\n",
              "      <td>1.395144e+09</td>\n",
              "      <td>9.491499e+07</td>\n",
              "      <td>1.230941e+09</td>\n",
              "      <td>1.313042e+09</td>\n",
              "      <td>1.395144e+09</td>\n",
              "      <td>1.477246e+09</td>\n",
              "      <td>1.559347e+09</td>\n",
              "    </tr>\n",
              "  </tbody>\n",
              "</table>\n",
              "</div>"
            ],
            "text/plain": [
              "                                   count  ...           max\n",
              "Coin Supply                       1268.0  ...  1.773586e+07\n",
              "Market Price (USD)                1268.0  ...  1.928979e+04\n",
              "Market Cap (USD)                  1268.0  ...  3.230718e+11\n",
              "Trade Volume (USD)                1268.0  ...  3.800433e+09\n",
              "Blockchain Size                   1268.0  ...  2.213460e+05\n",
              "Avg Block Sz (MB)                 1268.0  ...  1.261405e+00\n",
              "Avg Txs/Block                     1268.0  ...  2.763000e+03\n",
              "Median Tx Confirm Time (Minutes)  1268.0  ...  2.895000e+01\n",
              "Hash Rate (TH/s)                  1268.0  ...  6.008953e+07\n",
              "Mining Difficulty                 1268.0  ...  7.459681e+12\n",
              "Mining Revenue (USD)              1268.0  ...  5.319158e+07\n",
              "Tx Fees (BTC)                     1268.0  ...  1.066000e+03\n",
              "Tx Fees (USD)                     1268.0  ...  1.636813e+07\n",
              "Cost/Tx %                         1268.0  ...  1.316667e+05\n",
              "Cost/Tx (USD)                     1268.0  ...  1.616900e+02\n",
              "N-Unique Addresses                1268.0  ...  1.072861e+06\n",
              "N-Confirmed Txs/Day               1268.0  ...  4.906440e+05\n",
              "N-Txs                             1268.0  ...  4.195815e+08\n",
              "N-Txs (Excluding Top 100)         1268.0  ...  4.706500e+05\n",
              "Tx Output Value (BTC)             1268.0  ...  3.843336e+07\n",
              "Total Est Tx Value (BTC)          1268.0  ...  5.313161e+06\n",
              "Total Est Tx Value (USD)          1268.0  ...  5.152140e+09\n",
              "Year                              1268.0  ...  2.019000e+03\n",
              "Month                             1268.0  ...  1.200000e+01\n",
              "Week                              1268.0  ...  5.300000e+01\n",
              "Day                               1268.0  ...  3.100000e+01\n",
              "Dayofweek                         1268.0  ...  6.000000e+00\n",
              "Dayofyear                         1268.0  ...  3.660000e+02\n",
              "Is_month_end                      1268.0  ...  1.000000e+00\n",
              "Is_month_start                    1268.0  ...  1.000000e+00\n",
              "Is_quarter_end                    1268.0  ...  1.000000e+00\n",
              "Is_quarter_start                  1268.0  ...  1.000000e+00\n",
              "Is_year_end                       1268.0  ...  1.000000e+00\n",
              "Is_year_start                     1268.0  ...  1.000000e+00\n",
              "Elapsed                           1268.0  ...  1.559347e+09\n",
              "\n",
              "[35 rows x 8 columns]"
            ]
          },
          "metadata": {
            "tags": []
          },
          "execution_count": 11
        }
      ]
    },
    {
      "cell_type": "markdown",
      "metadata": {
        "id": "85tSvGCPnKit",
        "colab_type": "text"
      },
      "source": [
        "**3c. Drop Date to Explore Feature Correlation**"
      ]
    },
    {
      "cell_type": "code",
      "metadata": {
        "id": "pLkr5O4FzEJE",
        "colab_type": "code",
        "outputId": "e509f2d0-b185-4270-d9e6-a86fcfe7b210",
        "colab": {
          "base_uri": "https://localhost:8080/",
          "height": 224
        }
      },
      "source": [
        "btc_no_date = spark.createDataFrame(expanded_btc_df.toPandas().drop('Date', axis=1))\n",
        "btc_no_date.toPandas().index = expanded_btc_df.toPandas().index\n",
        "btc_no_date.show(5)"
      ],
      "execution_count": 0,
      "outputs": [
        {
          "output_type": "stream",
          "text": [
            "+-----------+------------------+----------------+------------------+---------------+-----------------+-------------+--------------------------------+----------------+-----------------+--------------------+-------------+-------------+---------+-------------+------------------+-------------------+-----+-------------------------+---------------------+------------------------+------------------------+----+-----+----+---+---------+---------+------------+--------------+--------------+----------------+-----------+-------------+----------+\n",
            "|Coin Supply|Market Price (USD)|Market Cap (USD)|Trade Volume (USD)|Blockchain Size|Avg Block Sz (MB)|Avg Txs/Block|Median Tx Confirm Time (Minutes)|Hash Rate (TH/s)|Mining Difficulty|Mining Revenue (USD)|Tx Fees (BTC)|Tx Fees (USD)|Cost/Tx %|Cost/Tx (USD)|N-Unique Addresses|N-Confirmed Txs/Day|N-Txs|N-Txs (Excluding Top 100)|Tx Output Value (BTC)|Total Est Tx Value (BTC)|Total Est Tx Value (USD)|Year|Month|Week|Day|Dayofweek|Dayofyear|Is_month_end|Is_month_start|Is_quarter_end|Is_quarter_start|Is_year_end|Is_year_start|   Elapsed|\n",
            "+-----------+------------------+----------------+------------------+---------------+-----------------+-------------+--------------------------------+----------------+-----------------+--------------------+-------------+-------------+---------+-------------+------------------+-------------------+-----+-------------------------+---------------------+------------------------+------------------------+----+-----+----+---+---------+---------+------------+--------------+--------------+----------------+-----------+-------------+----------+\n",
            "|         50|               0.0|             0.0|               0.0|              0|          2.85E-4|            1|                             0.0|             0.0|                1|                 0.0|            0|          0.0|      0.0|          0.0|               1.0|                  1|    1|                        1|                   50|                       0|                     0.0|2009|    1|   1|  3|        5|        3|           0|             0|             0|               0|          0|            0|1230940800|\n",
            "|         50|               0.0|             0.0|               0.0|              0|              0.0|            1|                             0.0|             0.0|                0|                 0.0|            0|          0.0|      0.0|          0.0|               0.0|                  0|    1|                        0|                    0|                       0|                     0.0|2009|    1|   2|  6|        1|        6|           0|             0|             0|               0|          0|            0|1231200000|\n",
            "|        750|               0.0|             0.0|               0.0|              0|          2.15E-4|            1|                             0.0|             0.0|                1|                 0.0|            0|          0.0|      0.0|          0.0|              14.0|                 14|   15|                       14|                  700|                       0|                     0.0|2009|    1|   2|  9|        4|        9|           0|             0|             0|               0|          0|            0|1231459200|\n",
            "|      12050|               0.0|             0.0|               0.0|              0|   2.322359551E-4|            1|                             0.0|             0.0|                1|                 0.0|            0|          0.0| 18541.67|          0.0|              96.0|                 95|  247|                       95|                 4601|                      24|                     0.0|2009|    1|   3| 12|        0|       12|           0|             0|             0|               0|          0|            0|1231718400|\n",
            "|      30450|               0.0|             0.0|               0.0|              0|   2.417480315E-4|            1|                             0.0|             0.0|                1|                 0.0|            0|          0.0|  1533.82|          0.0|             136.0|                136|  625|                      136|                 6911|                     414|                     0.0|2009|    1|   3| 15|        3|       15|           0|             0|             0|               0|          0|            0|1231977600|\n",
            "+-----------+------------------+----------------+------------------+---------------+-----------------+-------------+--------------------------------+----------------+-----------------+--------------------+-------------+-------------+---------+-------------+------------------+-------------------+-----+-------------------------+---------------------+------------------------+------------------------+----+-----+----+---+---------+---------+------------+--------------+--------------+----------------+-----------+-------------+----------+\n",
            "only showing top 5 rows\n",
            "\n"
          ],
          "name": "stdout"
        }
      ]
    },
    {
      "cell_type": "markdown",
      "metadata": {
        "id": "q6AYo4SvkMTn",
        "colab_type": "text"
      },
      "source": [
        "### 4.Feature Correlation\n",
        "***"
      ]
    },
    {
      "cell_type": "markdown",
      "metadata": {
        "id": "B5cI4X955BqT",
        "colab_type": "text"
      },
      "source": [
        "**4a. Get Correlation Matrix for all Values**"
      ]
    },
    {
      "cell_type": "code",
      "metadata": {
        "id": "UxxbdmO9kMd3",
        "colab_type": "code",
        "colab": {}
      },
      "source": [
        "cor = btc_no_date.toPandas().corr().abs()\n"
      ],
      "execution_count": 0,
      "outputs": []
    },
    {
      "cell_type": "markdown",
      "metadata": {
        "id": "wACYO4_rIKm5",
        "colab_type": "text"
      },
      "source": [
        "**4b. Correlation b/w Market Price and Continuous Features:**"
      ]
    },
    {
      "cell_type": "code",
      "metadata": {
        "id": "XOgGPZzXmnvv",
        "colab_type": "code",
        "outputId": "061beee9-8784-4d3e-c6fc-e0b77f1dc8ec",
        "colab": {
          "base_uri": "https://localhost:8080/",
          "height": 269
        }
      },
      "source": [
        "cont_df = btc_no_date.toPandas()[cont_columns]\n",
        "cont_df[dep_var] = btc_no_date.toPandas()[dep_var]\n",
        "cont_corr_df = cont_df.corr()\n",
        "plt.figure(figsize=(15,1))\n",
        "sns.heatmap(cont_corr_df.sort_values(by=dep_var, axis=1).drop(dep_var, axis=1).tail(1), annot=True, cmap=plt.cm.Reds)\n",
        "plt.show()"
      ],
      "execution_count": 0,
      "outputs": [
        {
          "output_type": "display_data",
          "data": {
            "image/png": "[encoded data removed]",
            "text/plain": [
              "<Figure size 1080x72 with 2 Axes>"
            ]
          },
          "metadata": {
            "tags": []
          }
        }
      ]
    },
    {
      "cell_type": "markdown",
      "metadata": {
        "id": "hZcYRvV-5cHh",
        "colab_type": "text"
      },
      "source": [
        ""
      ]
    },
    {
      "cell_type": "markdown",
      "metadata": {
        "id": "RMWwttYY5Km-",
        "colab_type": "text"
      },
      "source": [
        "**4c. Feature Correlation with Binary Features:**"
      ]
    },
    {
      "cell_type": "code",
      "metadata": {
        "id": "2MPJzwbKIFHj",
        "colab_type": "code",
        "outputId": "93035807-6cbd-49b0-d602-dd61ae174359",
        "colab": {
          "base_uri": "https://localhost:8080/",
          "height": 152
        }
      },
      "source": [
        "#Get correlations b/w Dep. Var and Continuous Cols\n",
        "cat_df = btc_no_date[categ_columns].toPandas()\n",
        "cat_df[dep_var]=btc_no_date.toPandas()[dep_var]\n",
        "cat_corr_df = cat_df.corr()\n",
        "plt.figure(figsize=(12,1))\n",
        "sns.heatmap(cat_corr_df.sort_values(by=dep_var, axis=1).drop(dep_var, axis=1).tail(1), annot=True, cmap=plt.cm.Reds)\n",
        "plt.show()\n"
      ],
      "execution_count": 0,
      "outputs": [
        {
          "output_type": "display_data",
          "data": {
            "image/png": "[encoded data removed]",
            "text/plain": [
              "<Figure size 864x72 with 2 Axes>"
            ]
          },
          "metadata": {
            "tags": []
          }
        }
      ]
    },
    {
      "cell_type": "markdown",
      "metadata": {
        "id": "mzrb5NCR5aVV",
        "colab_type": "text"
      },
      "source": [
        ""
      ]
    },
    {
      "cell_type": "markdown",
      "metadata": {
        "id": "TWT1IcYbImuL",
        "colab_type": "text"
      },
      "source": [
        "**4d: Correlation b/w Market Price Categorical/Binary Features:**"
      ]
    },
    {
      "cell_type": "code",
      "metadata": {
        "id": "fX9SOucPjHUR",
        "colab_type": "code",
        "outputId": "12f53c00-2594-4291-bfbc-57bb2fb57d4a",
        "colab": {
          "base_uri": "https://localhost:8080/",
          "height": 152
        }
      },
      "source": [
        "bi_df = btc_no_date.toPandas()[tf_columns]\n",
        "bi_df[dep_var] = btc_no_date.toPandas()[dep_var]\n",
        "bi_corr_df = bi_df.corr()\n",
        "plt.figure(figsize=(15,1))\n",
        "sns.heatmap(bi_corr_df.sort_values(by=dep_var, axis=1).drop(dep_var, axis=1).tail(1), annot=True, cmap=plt.cm.Reds)\n",
        "plt.show()"
      ],
      "execution_count": 0,
      "outputs": [
        {
          "output_type": "display_data",
          "data": {
            "image/png": "[encoded data removed]",
            "text/plain": [
              "<Figure size 1080x72 with 2 Axes>"
            ]
          },
          "metadata": {
            "tags": []
          }
        }
      ]
    },
    {
      "cell_type": "markdown",
      "metadata": {
        "id": "CTo6ZFpQ4di5",
        "colab_type": "text"
      },
      "source": [
        ""
      ]
    },
    {
      "cell_type": "markdown",
      "metadata": {
        "id": "H8OK1myC4eEg",
        "colab_type": "text"
      },
      "source": [
        "### 5. Dropping Highly Correlated Features \n",
        "***"
      ]
    },
    {
      "cell_type": "markdown",
      "metadata": {
        "id": "nfGjc7S17GfR",
        "colab_type": "text"
      },
      "source": [
        ""
      ]
    },
    {
      "cell_type": "markdown",
      "metadata": {
        "id": "mBnP9SY67Gwt",
        "colab_type": "text"
      },
      "source": [
        "**5a. Defining Correlation Output Variable:**"
      ]
    },
    {
      "cell_type": "code",
      "metadata": {
        "id": "Rk5CEg-I4ef1",
        "colab_type": "code",
        "colab": {}
      },
      "source": [
        "#Correlation with output variable\n",
        "cor_target = cor[dep_var]"
      ],
      "execution_count": 0,
      "outputs": []
    },
    {
      "cell_type": "markdown",
      "metadata": {
        "id": "BxnQbZ4M7HuW",
        "colab_type": "text"
      },
      "source": [
        "**5b. Identifying Features Highly Correlated with Target and Other Features:**"
      ]
    },
    {
      "cell_type": "markdown",
      "metadata": {
        "id": "cRlb-GCfCcn6",
        "colab_type": "text"
      },
      "source": [
        ""
      ]
    },
    {
      "cell_type": "code",
      "metadata": {
        "id": "EayEXkSjljgk",
        "colab_type": "code",
        "outputId": "1b2d60ce-5c51-435d-e242-a707ee0a4393",
        "colab": {
          "base_uri": "https://localhost:8080/",
          "height": 1000
        }
      },
      "source": [
        "#Selecting highly correlated features\n",
        "relevant_features = cor_target[cor_target>0.6]\n",
        "\n",
        "rel_df = relevant_features.to_frame() #.transpose()\n",
        "rel_df = rel_df.sort_values(dep_var, ascending=False)\n",
        "rel_columns = rel_df[1:].index.values.tolist()\n",
        "rel_corr_df = btc_no_date[rel_columns].toPandas().corr()\n",
        "\n",
        "plt.figure(figsize=(12,10))\n",
        "mask = np.zeros_like(rel_corr_df, dtype=np.bool)\n",
        "mask[np.triu_indices_from(mask)] = True\n",
        "sns.heatmap(rel_corr_df[rel_corr_df>.6], annot=True, cmap=plt.cm.Reds, mask=mask)\n",
        "rel_columns, plt.show()\n",
        "\n"
      ],
      "execution_count": 0,
      "outputs": [
        {
          "output_type": "display_data",
          "data": {
            "image/png": "[encoded data removed]",
            "text/plain": [
              "<Figure size 864x720 with 2 Axes>"
            ]
          },
          "metadata": {
            "tags": []
          }
        },
        {
          "output_type": "execute_result",
          "data": {
            "text/plain": [
              "(['Market Cap (USD)',\n",
              "  'Mining Revenue (USD)',\n",
              "  'Total Est Tx Value (USD)',\n",
              "  'Cost/Tx (USD)',\n",
              "  'N-Txs',\n",
              "  'Blockchain Size',\n",
              "  'Trade Volume (USD)',\n",
              "  'Hash Rate (TH/s)',\n",
              "  'N-Unique Addresses',\n",
              "  'Mining Difficulty',\n",
              "  'Avg Block Sz (MB)',\n",
              "  'Tx Fees (USD)',\n",
              "  'Elapsed',\n",
              "  'Year',\n",
              "  'N-Confirmed Txs/Day',\n",
              "  'N-Txs (Excluding Top 100)',\n",
              "  'Avg Txs/Block'],\n",
              " None)"
            ]
          },
          "metadata": {
            "tags": []
          },
          "execution_count": 18
        }
      ]
    },
    {
      "cell_type": "markdown",
      "metadata": {
        "id": "Fpcp1Rpv7EPP",
        "colab_type": "text"
      },
      "source": [
        "**5c. Reducing Dimensionality of Correlation Matrix:**"
      ]
    },
    {
      "cell_type": "code",
      "metadata": {
        "id": "Du0qv6QB9hXx",
        "colab_type": "code",
        "colab": {}
      },
      "source": [
        "def dimentionalize_corr_matrix(cor_df, upper_bound=0.95):\n",
        "  upper = cor_df.where(np.triu(np.ones(cor_df.shape), k=1).astype(np.bool))\n",
        "  to_drop = [column for column in upper.columns if any(upper[column] > upper_bound)]\n",
        "  rel_df_clean = cor_df.drop(cor_df[to_drop], axis=0)\n",
        "  rel_df_clean =  rel_df_clean.drop( rel_df_clean[to_drop], axis=1)\n",
        "  return rel_df_clean\n",
        "  "
      ],
      "execution_count": 0,
      "outputs": []
    },
    {
      "cell_type": "code",
      "metadata": {
        "id": "DRAl8fKe7EZy",
        "colab_type": "code",
        "outputId": "c1bab749-50c7-48e6-8165-857b02ae7d7d",
        "colab": {
          "base_uri": "https://localhost:8080/",
          "height": 823
        }
      },
      "source": [
        "rel_df_clean = dimentionalize_corr_matrix(rel_corr_df, .9)\n",
        "rel_columns = rel_df_clean.columns.tolist()\n",
        "\n",
        "plt.figure(figsize=(12,10))\n",
        "mask = np.zeros_like(rel_df_clean, dtype=np.bool)\n",
        "mask[np.triu_indices_from(mask)] = True\n",
        "sns.heatmap(rel_df_clean, annot=True, cmap=plt.cm.Reds, mask=mask)\n",
        "rel_columns, plt.show()\n"
      ],
      "execution_count": 0,
      "outputs": [
        {
          "output_type": "display_data",
          "data": {
            "image/png": "[encoded data removed]",
            "text/plain": [
              "<Figure size 864x720 with 2 Axes>"
            ]
          },
          "metadata": {
            "tags": []
          }
        },
        {
          "output_type": "execute_result",
          "data": {
            "text/plain": [
              "(['Market Cap (USD)',\n",
              "  'Cost/Tx (USD)',\n",
              "  'N-Txs',\n",
              "  'Trade Volume (USD)',\n",
              "  'Hash Rate (TH/s)',\n",
              "  'N-Unique Addresses',\n",
              "  'Tx Fees (USD)'],\n",
              " None)"
            ]
          },
          "metadata": {
            "tags": []
          },
          "execution_count": 20
        }
      ]
    },
    {
      "cell_type": "markdown",
      "metadata": {
        "id": "eUkdTOYxg3ho",
        "colab_type": "text"
      },
      "source": [
        "**5d. Using Sklearn Feature Estimator:**"
      ]
    },
    {
      "cell_type": "code",
      "metadata": {
        "id": "uq04L06LQcSC",
        "colab_type": "code",
        "colab": {}
      },
      "source": [
        "model = sklearnLR()\n",
        "rfe = RFE(model, 7)\n",
        "y = btc_no_date.toPandas()[dep_var].tolist()"
      ],
      "execution_count": 0,
      "outputs": []
    },
    {
      "cell_type": "code",
      "metadata": {
        "id": "yCecgacdQ5Km",
        "colab_type": "code",
        "outputId": "5179fb5b-2268-4ca0-a2ef-f17fcc9d43b7",
        "colab": {
          "base_uri": "https://localhost:8080/",
          "height": 34
        }
      },
      "source": [
        "X_rfe = rfe.fit_transform(btc_no_date.toPandas().drop(dep_var, axis=1), y)\n",
        "model.fit(X_rfe, y)\n",
        "temp = pd.Series(rfe.support_,index = btc_no_date.toPandas().drop(dep_var, axis=1).columns)\n",
        "selected_features_rfe = temp[temp==True].index.values.tolist()\n",
        "print(selected_features_rfe)"
      ],
      "execution_count": 0,
      "outputs": [
        {
          "output_type": "stream",
          "text": [
            "['Avg Block Sz (MB)', 'Cost/Tx (USD)', 'Year', 'Is_month_end', 'Is_month_start', 'Is_quarter_start', 'Is_year_start']\n"
          ],
          "name": "stdout"
        }
      ]
    },
    {
      "cell_type": "markdown",
      "metadata": {
        "id": "nxgoqkN0otCJ",
        "colab_type": "text"
      },
      "source": [
        "## Creating a Machine Learning Pipeline\n",
        "***"
      ]
    },
    {
      "cell_type": "markdown",
      "metadata": {
        "id": "nfdUvP_5o2ga",
        "colab_type": "text"
      },
      "source": [
        "### 1. Assemble the Featurizers\n",
        "***"
      ]
    },
    {
      "cell_type": "code",
      "metadata": {
        "id": "AJIOoxXJ3yXs",
        "colab_type": "code",
        "colab": {}
      },
      "source": [
        "feature_minus_dep = cont_columns + categ_columns + tf_columns \n",
        "\n",
        "\n",
        "vectorAssembler = VectorAssembler(\n",
        "    inputCols = feature_minus_dep                                                                                                                                                                                                                               , \n",
        "    outputCol = 'features')\n",
        "\n",
        "\n",
        "vectorAssembler2 = VectorAssembler(\n",
        "    inputCols = rel_columns                                                                                                                                                                                                                           , \n",
        "    outputCol = 'features')\n",
        "\n",
        "vectorAssembler3 = VectorAssembler(\n",
        "    inputCols = selected_features_rfe                                                                                                                                                                                                                         , \n",
        "    outputCol = 'features')\n"
      ],
      "execution_count": 0,
      "outputs": []
    },
    {
      "cell_type": "markdown",
      "metadata": {
        "id": "s5ddNBlNo6Mh",
        "colab_type": "text"
      },
      "source": [
        "### 2. Transform the Data\n",
        "***"
      ]
    },
    {
      "cell_type": "code",
      "metadata": {
        "id": "t2wHFeyEo6XD",
        "colab_type": "code",
        "outputId": "a5b166db-1790-4eb4-85ed-e000d10707eb",
        "colab": {
          "base_uri": "https://localhost:8080/",
          "height": 476
        }
      },
      "source": [
        "#All columns featurized \n",
        "v_btc_no_date_df = vectorAssembler.transform(btc_no_date)\n",
        "v_btc_no_date_df = v_btc_no_date_df.select(['features', dep_var])\n",
        "v_btc_no_date_df.show(3)\n",
        "\n",
        "#Relevant columns featurized \n",
        "v_rel_btc_no_date_df = vectorAssembler2.transform(btc_no_date)\n",
        "v_rel_btc_no_date_df = v_rel_btc_no_date_df.select(['features', dep_var])\n",
        "v_rel_btc_no_date_df.show(3)\n",
        "\n",
        "#RFE-selected columns featurized \n",
        "v_sel_btc_no_date_df = vectorAssembler3.transform(btc_no_date)\n",
        "v_sel_btc_no_date_df = v_sel_btc_no_date_df.select(['features', dep_var])\n",
        "v_sel_btc_no_date_df.show(3)"
      ],
      "execution_count": 0,
      "outputs": [
        {
          "output_type": "stream",
          "text": [
            "+--------------------+------------------+\n",
            "|            features|Market Price (USD)|\n",
            "+--------------------+------------------+\n",
            "|(34,[0,4,5,8,13,1...|               0.0|\n",
            "|(34,[0,5,13,17,22...|               0.0|\n",
            "|(34,[0,4,5,8,13,1...|               0.0|\n",
            "+--------------------+------------------+\n",
            "only showing top 3 rows\n",
            "\n",
            "+--------------------+------------------+\n",
            "|            features|Market Price (USD)|\n",
            "+--------------------+------------------+\n",
            "| (7,[2,5],[1.0,1.0])|               0.0|\n",
            "|       (7,[2],[1.0])|               0.0|\n",
            "|(7,[2,5],[15.0,14...|               0.0|\n",
            "+--------------------+------------------+\n",
            "only showing top 3 rows\n",
            "\n",
            "+--------------------+------------------+\n",
            "|            features|Market Price (USD)|\n",
            "+--------------------+------------------+\n",
            "|(7,[0,2],[2.85E-4...|               0.0|\n",
            "|    (7,[2],[2009.0])|               0.0|\n",
            "|(7,[0,2],[2.15E-4...|               0.0|\n",
            "+--------------------+------------------+\n",
            "only showing top 3 rows\n",
            "\n"
          ],
          "name": "stdout"
        }
      ]
    },
    {
      "cell_type": "markdown",
      "metadata": {
        "id": "sK1Ic54DpDmb",
        "colab_type": "text"
      },
      "source": [
        "### 3. Partition the Data for Training and Testing\n",
        "****"
      ]
    },
    {
      "cell_type": "code",
      "metadata": {
        "id": "4R-3oYgcr1bu",
        "colab_type": "code",
        "colab": {}
      },
      "source": [
        "def regression_data_builder(spark_df, part_index):\n",
        "  train_df = spark.createDataFrame(spark_df.toPandas()[:part_index])\n",
        "  valid_df = spark.createDataFrame(spark_df.toPandas()[part_index:])\n",
        "  return train_df, valid_df\n",
        "  "
      ],
      "execution_count": 0,
      "outputs": []
    },
    {
      "cell_type": "code",
      "metadata": {
        "id": "_iSThSXl-5mC",
        "colab_type": "code",
        "outputId": "f16095b2-bc00-469f-e804-d5f334c0f358",
        "colab": {
          "base_uri": "https://localhost:8080/",
          "height": 68
        }
      },
      "source": [
        "v_btc_no_date_df.index = expanded_btc_df.toPandas().index\n",
        "v_rel_btc_no_date_df.index = expanded_btc_df.toPandas().index\n",
        "v_sel_btc_no_date_df.index = expanded_btc_df.toPandas().index\n",
        "\n",
        "valid_index =  int(v_btc_no_date_df.toPandas().shape[0] * .8)\n",
        "\n",
        "btc_train_df, btc_test_df = regression_data_builder(v_btc_no_date_df, valid_index)\n",
        "btc_rel_train_df, btc_rel_test_df = regression_data_builder(v_rel_btc_no_date_df, valid_index) \n",
        "btc_sel_train_df, btc_sel_test_df = regression_data_builder(v_sel_btc_no_date_df, valid_index)\n",
        "\n",
        "\n",
        "print(btc_train_df.toPandas().shape, btc_test_df.toPandas().shape)\n",
        "print(btc_rel_train_df.toPandas().shape, btc_rel_test_df.toPandas().shape)\n",
        "print(btc_sel_train_df.toPandas().shape, btc_sel_test_df.toPandas().shape)"
      ],
      "execution_count": 0,
      "outputs": [
        {
          "output_type": "stream",
          "text": [
            "(1014, 2) (254, 2)\n",
            "(1014, 2) (254, 2)\n",
            "(1014, 2) (254, 2)\n"
          ],
          "name": "stdout"
        }
      ]
    },
    {
      "cell_type": "markdown",
      "metadata": {
        "id": "DLPJe16VpJWU",
        "colab_type": "text"
      },
      "source": [
        "### 4. Fit the Linear Regression Model\n",
        "***"
      ]
    },
    {
      "cell_type": "code",
      "metadata": {
        "id": "wNdPeEyKDbkN",
        "colab_type": "code",
        "outputId": "aa2ea432-89af-4924-9686-84ec2a9935e2",
        "colab": {
          "base_uri": "https://localhost:8080/",
          "height": 190
        }
      },
      "source": [
        "lr = LinearRegression(featuresCol=\"features\", labelCol=dep_var, maxIter=10, regParam=0.3, elasticNetParam=0.8)\n",
        "lr_model_reg = lr.fit(btc_train_df)\n",
        "lr_model_rel = lr.fit(btc_rel_train_df)\n",
        "lr_model_sel = lr.fit(btc_sel_train_df)\n",
        "\n",
        "print(\"Coefficients for All Features: \" + str(lr_model_reg.coefficients))\n",
        "print(\"Intercept for All Features: \" + str(lr_model_reg.intercept))\n",
        "print(\"\")\n",
        "\n",
        "print(\"Coefficients for Relevant Features: \" + str(lr_model_rel.coefficients))\n",
        "print(\"Intercept for Relevant Features: \" + str(lr_model_rel.intercept))\n",
        "print(\"\")\n",
        "\n",
        "print(\"Coefficients for RFE-selected Features: \" + str(lr_model_sel.coefficients))\n",
        "print(\"Intercept for RFE-slected Features: \" + str(lr_model_sel.intercept))\n",
        "print(\"\")"
      ],
      "execution_count": 0,
      "outputs": [
        {
          "output_type": "stream",
          "text": [
            "Coefficients for All Features: [0.0,1.7078139108250146e-08,-2.115554614418536e-07,0.0004270044187641544,6.239893267828199,0.003429979696709965,-0.1434931587935179,3.066098343433062e-05,2.5701103183543495e-10,7.007553729014436e-05,-0.05481848606547113,0.0008382622974685414,0.0003338822469139472,0.0,5.562776100847936,5.309036088163017e-05,2.821856382204285e-05,2.5255698926210144e-07,7.334724592339215e-05,-3.091833754317754e-06,-1.549978710017697e-05,3.3897505042728797e-07,0.0,0.4534718197879544,0.18513190826940504,-0.15089049498989474,0.0,0.014526612291111981,0.0,-7.977852162976672,14.08491910139596,-5.420856333960018,2.090112797883247,-86.15968602596286]\n",
            "Intercept for All Features: -19.33146424383884\n",
            "\n",
            "Coefficients for Relevant Features: [3.520668545570556e-08,7.114362319325985,6.697158151153806e-07,-2.2195010547200938e-07,3.764977706010813e-05,0.0001799559016344142,0.0006653098962939075]\n",
            "Intercept for Relevant Features: -26.249108777368917\n",
            "\n",
            "Coefficients for RFE-selected Features: [970.720490977749,12.733851576439028,-29.024624738554746,16.339189732686332,8.943593882278739,-40.852580625944924,-137.68513911686108]\n",
            "Intercept for RFE-slected Features: 58287.67854244427\n",
            "\n"
          ],
          "name": "stdout"
        }
      ]
    },
    {
      "cell_type": "markdown",
      "metadata": {
        "id": "wKKPzbOxpSnp",
        "colab_type": "text"
      },
      "source": [
        "### 5. Test the Models \n",
        "***"
      ]
    },
    {
      "cell_type": "markdown",
      "metadata": {
        "id": "24BzpFsA4jpP",
        "colab_type": "text"
      },
      "source": [
        ""
      ]
    },
    {
      "cell_type": "code",
      "metadata": {
        "id": "PbC5U5p7FPMd",
        "colab_type": "code",
        "outputId": "b80ebe93-ed10-460f-bec4-79e1854e3bc6",
        "colab": {
          "base_uri": "https://localhost:8080/",
          "height": 1000
        }
      },
      "source": [
        "btc_preds_reg = lr_model_reg.transform(btc_test_df) \n",
        "btc_preds_rel = lr_model_rel.transform(btc_rel_test_df) \n",
        "btc_preds_sel = lr_model_sel.transform(btc_sel_test_df) \n",
        "btc_preds_reg.show(20), btc_preds_rel.show(20), btc_preds_sel.show(20)"
      ],
      "execution_count": 0,
      "outputs": [
        {
          "output_type": "stream",
          "text": [
            "+--------------------+------------------+------------------+\n",
            "|            features|Market Price (USD)|        prediction|\n",
            "+--------------------+------------------+------------------+\n",
            "|[1.6308863E7,2.45...|           1507.58|1463.2390814931025|\n",
            "|[1.6314675E7,2.54...|           1560.41| 1639.105826746718|\n",
            "|[1.632095E7,2.809...|           1721.28|1862.6267214997497|\n",
            "|[1.6326413E7,2.80...|           1720.48|1856.5202261453378|\n",
            "|[1.6332563E7,2.81...|           1723.13|1935.1797181170093|\n",
            "|[1.6337925E7,3.10...|           1899.08| 2095.660884568126|\n",
            "|[1.6343875E7,3.34...|           2046.53| 2110.686158233822|\n",
            "|[1.6349725E7,3.88...|           2379.19|2814.3045540538737|\n",
            "|[1.6355775E7,3.29...|           2014.05|2522.8320515688324|\n",
            "|[1.6361963E7,3.66...|           2239.21|2958.5817030052153|\n",
            "|[1.6367963E7,4.00...|           2446.14| 2781.028238813789|\n",
            "|[1.6374425E7,4.41...|           2698.31| 3113.449397548964|\n",
            "|[1.6380438E7,4.57...|            2793.0| 3273.029556826837|\n",
            "|[1.6385913E7,4.85...|           2961.83|2964.2549578186013|\n",
            "|[1.6391263E7,4.01...|           2447.04| 2765.359941642859|\n",
            "|[1.6396838E7,4.37...|           2665.93| 2582.716812971752|\n",
            "|[1.6402263E7,4.51...|           2754.98|2850.9158528026674|\n",
            "|[1.640775E7,4.447...|           2710.41|2742.3885884397173|\n",
            "|[1.6412875E7,3.99...|           2436.45| 2562.455603065976|\n",
            "|[1.6417975E7,4.17...|           2544.41| 2456.545561666658|\n",
            "+--------------------+------------------+------------------+\n",
            "only showing top 20 rows\n",
            "\n",
            "+--------------------+------------------+------------------+\n",
            "|            features|Market Price (USD)|        prediction|\n",
            "+--------------------+------------------+------------------+\n",
            "|[2.458686367133E1...|           1507.58|1475.2205642260535|\n",
            "|[2.545758527969E1...|           1560.41|1613.2112926563634|\n",
            "|[2.809300595444E1...|           1721.28|1770.3908598886308|\n",
            "|[2.808924168838E1...|           1720.48|1808.7862741483689|\n",
            "|[2.814307840215E1...|           1723.13|1835.5573653272365|\n",
            "|[3.102707378476E1...|           1899.08|2025.3660646802498|\n",
            "|[3.344830343829E1...|           2046.53|2103.3001083933354|\n",
            "|[3.88991648967E10...|           2379.19| 2588.826590236528|\n",
            "|[3.294139709273E1...|           2014.05| 2376.834068106292|\n",
            "|[3.663779384963E1...|           2239.21|  2690.67518718977|\n",
            "|[4.003836730669E1...|           2446.14| 2687.529175568144|\n",
            "|[4.418333714925E1...|           2698.31|2963.0546159148134|\n",
            "|[4.575054862839E1...|            2793.0|3111.6358066455523|\n",
            "|[4.853228087033E1...|           2961.83| 2993.344208618584|\n",
            "|[4.011010059935E1...|           2447.04| 2668.216781502566|\n",
            "|[4.371277180586E1...|           2665.93|2650.1635238566246|\n",
            "|[4.518787643829E1...|           2754.98|2836.0681971384474|\n",
            "|[4.447176718093E1...|           2710.41|2755.9687364439637|\n",
            "|[3.99891666445E10...|           2436.45|2517.5558415716096|\n",
            "|[4.177413324019E1...|           2544.41|2506.1822315738455|\n",
            "+--------------------+------------------+------------------+\n",
            "only showing top 20 rows\n",
            "\n",
            "+--------------------+------------------+------------------+\n",
            "|            features|Market Price (USD)|        prediction|\n",
            "+--------------------+------------------+------------------+\n",
            "|(7,[0,1,2],[0.995...|           1507.58| 834.5507097237278|\n",
            "|(7,[0,1,2],[0.964...|           1560.41| 812.8495191021066|\n",
            "|(7,[0,1,2],[0.987...|           1721.28| 851.4604027309178|\n",
            "|(7,[0,1,2],[0.954...|           1720.48| 826.6122890125189|\n",
            "|(7,[0,1,2],[0.970...|           1723.13| 850.6757726126525|\n",
            "|(7,[0,1,2],[0.974...|           1899.08| 872.4138967433173|\n",
            "|(7,[0,1,2],[0.990...|           2046.53| 881.4672417263064|\n",
            "|(7,[0,1,2],[0.970...|           2379.19| 901.7068388077241|\n",
            "|(7,[0,1,2],[0.991...|           2014.05|  910.546805235499|\n",
            "|(7,[0,1,2],[0.980...|           2239.21| 928.5307444524005|\n",
            "|(7,[0,1,2],[0.981...|           2446.14| 961.5829672637556|\n",
            "|(7,[0,1,2],[0.964...|           2698.31| 980.4480383198679|\n",
            "|(7,[0,1,2],[0.969...|            2793.0| 981.8543236170735|\n",
            "|(7,[0,1,2],[0.945...|           2961.83|1031.8292601012072|\n",
            "|(7,[0,1,2],[0.969...|           2447.04| 924.8715168879571|\n",
            "|(7,[0,1,2],[0.985...|           2665.93|1006.7032010312469|\n",
            "|(7,[0,1,2],[0.965...|           2754.98| 957.5897055315509|\n",
            "|(7,[0,1,2],[0.948...|           2710.41| 976.6866293568091|\n",
            "|(7,[0,1,2],[0.987...|           2436.45| 958.0063772600552|\n",
            "|(7,[0,1,2],[0.966...|           2544.41|  941.781401638269|\n",
            "+--------------------+------------------+------------------+\n",
            "only showing top 20 rows\n",
            "\n"
          ],
          "name": "stdout"
        },
        {
          "output_type": "execute_result",
          "data": {
            "text/plain": [
              "(None, None, None)"
            ]
          },
          "metadata": {
            "tags": []
          },
          "execution_count": 28
        }
      ]
    },
    {
      "cell_type": "markdown",
      "metadata": {
        "id": "QWnxyeS04t2v",
        "colab_type": "text"
      },
      "source": [
        "### 6. Analyze the Results\n",
        "***"
      ]
    },
    {
      "cell_type": "markdown",
      "metadata": {
        "id": "CpBgs9GM4uFG",
        "colab_type": "text"
      },
      "source": [
        ""
      ]
    },
    {
      "cell_type": "markdown",
      "metadata": {
        "id": "h-WvIUkh7k26",
        "colab_type": "text"
      },
      "source": [
        "**6a. Review Performance Metrics**"
      ]
    },
    {
      "cell_type": "code",
      "metadata": {
        "id": "FEb8DL4lGLIE",
        "colab_type": "code",
        "outputId": "14f119b5-9c78-4501-a1c8-9e871bf6f634",
        "colab": {
          "base_uri": "https://localhost:8080/",
          "height": 153
        }
      },
      "source": [
        "#Training Summaries for the 3 Models \n",
        "trainingSummary_reg = lr_model_reg.summary\n",
        "trainingSummary_rel = lr_model_rel.summary\n",
        "trainingSummary_sel = lr_model_sel.summary\n",
        "\n",
        "#Performance Metrics for model with all-features\n",
        "print(\"RMSE w/ All Features: %f\" % trainingSummary_reg.rootMeanSquaredError)\n",
        "print(\"r2(All Features): %f\" % trainingSummary_reg.r2)\n",
        "print('')\n",
        "\n",
        "#Performance Metrics for model with relevant features \n",
        "print(\"RMSE w/ Relevant Features: %f\" % trainingSummary_rel.rootMeanSquaredError)\n",
        "print(\"r2 (Relevant Features): %f\" % trainingSummary_rel.r2)\n",
        "print('')\n",
        "\n",
        "#Performance Metrics for model with RFE-selected features \n",
        "print(\"RMSE w/ RFE Features: %f\" % trainingSummary_sel.rootMeanSquaredError)\n",
        "print(\"r2 (RFE Features): %f\" % trainingSummary_sel.r2)\n"
      ],
      "execution_count": 0,
      "outputs": [
        {
          "output_type": "stream",
          "text": [
            "RMSE w/ All Features: 37.155439\n",
            "r2(All Features): 0.984842\n",
            "\n",
            "RMSE w/ Relevant Features: 35.631238\n",
            "r2 (Relevant Features): 0.986060\n",
            "\n",
            "RMSE w/ RFE Features: 106.434752\n",
            "r2 (RFE Features): 0.875614\n"
          ],
          "name": "stdout"
        }
      ]
    },
    {
      "cell_type": "markdown",
      "metadata": {
        "id": "-loUQmAD7tu6",
        "colab_type": "text"
      },
      "source": [
        ""
      ]
    },
    {
      "cell_type": "markdown",
      "metadata": {
        "id": "rAIFIuvo7vHZ",
        "colab_type": "text"
      },
      "source": [
        "**6b. Compile Data with Predictions for Visualization**"
      ]
    },
    {
      "cell_type": "markdown",
      "metadata": {
        "id": "VSt-o3q47-TL",
        "colab_type": "text"
      },
      "source": [
        ""
      ]
    },
    {
      "cell_type": "code",
      "metadata": {
        "id": "CyaXy7tvBNok",
        "colab_type": "code",
        "colab": {}
      },
      "source": [
        "#all features \n",
        "pred_reg_df = pd.DataFrame(expanded_btc_df.toPandas())\n",
        "pred_reg_df['Date'] = pd.to_datetime(pred_reg_df['Date'])\n",
        "pred_reg_df = pred_reg_df.set_index('Date')\n",
        "pred_reg_train_df = pred_reg_df[:valid_index]\n",
        "pred_reg_test_df = pred_reg_df[valid_index:]\n",
        "pred_reg_test_df = pred_reg_test_df.assign(Predictions = btc_preds_reg.toPandas()['prediction'].tolist())\n",
        "\n",
        "#relevant features \n",
        "pred_rel_df = pd.DataFrame(expanded_btc_df.toPandas()[[dep_var, 'Date'] + rel_columns ])\n",
        "pred_rel_df['Date'] = pd.to_datetime(pred_rel_df['Date'])\n",
        "pred_rel_df = pred_rel_df.set_index('Date')\n",
        "pred_rel_train_df = pred_rel_df[:valid_index]\n",
        "pred_rel_test_df = pred_rel_df[valid_index:]\n",
        "pred_rel_test_df = pred_rel_test_df.assign(Predictions = btc_preds_rel.toPandas()['prediction'].tolist())\n",
        "\n",
        "#RFE-selected features \n",
        "pred_sel_df = pd.DataFrame(expanded_btc_df.toPandas()[[dep_var, 'Date'] + selected_features_rfe])\n",
        "pred_sel_df['Date'] = pd.to_datetime(pred_sel_df['Date'])\n",
        "pred_sel_df = pred_sel_df.set_index('Date')\n",
        "pred_sel_train_df = pred_sel_df[:valid_index]\n",
        "pred_sel_test_df = pred_sel_df[valid_index:]\n",
        "pred_sel_test_df = pred_sel_test_df.assign(Predictions = btc_preds_sel.toPandas()['prediction'].tolist())\n",
        "\n",
        "\n"
      ],
      "execution_count": 0,
      "outputs": []
    },
    {
      "cell_type": "markdown",
      "metadata": {
        "id": "JQPigszq8AP3",
        "colab_type": "text"
      },
      "source": [
        "**6c. Plot Actual Dailly Market Prices against Predicted Prices**"
      ]
    },
    {
      "cell_type": "markdown",
      "metadata": {
        "id": "x5nIul-08AmH",
        "colab_type": "text"
      },
      "source": [
        ""
      ]
    },
    {
      "cell_type": "code",
      "metadata": {
        "id": "iVAgRFNlvWM-",
        "colab_type": "code",
        "outputId": "9ec28ef6-6448-406e-b8b9-a78e38e3875d",
        "colab": {
          "base_uri": "https://localhost:8080/",
          "height": 397
        }
      },
      "source": [
        "fig, ax = plt.subplots(1, 3, figsize=(18, 3))\n",
        "\n",
        "ax[0].set_title('Forecast: All Features (34)')\n",
        "ax[0].set_ylabel(dep_var)\n",
        "ax[0].set_xlabel('Year')\n",
        "ax[0].plot(pred_reg_train_df[dep_var])\n",
        "ax[0].plot(pred_reg_test_df[[dep_var, 'Predictions']])\n",
        "    \n",
        "    \n",
        "ax[1].set_title('Forecast: Relevant Features (7)')\n",
        "ax[1].set_ylabel(dep_var)\n",
        "ax[1].set_xlabel('Year')\n",
        "ax[1].plot(pred_rel_train_df[dep_var])\n",
        "ax[1].plot(pred_rel_test_df[[dep_var, 'Predictions']])\n",
        "    \n",
        "  \n",
        "ax[2].set_title('Forecast: RFE Features (7)')\n",
        "ax[2].set_ylabel(dep_var)\n",
        "ax[2].set_xlabel('Year')\n",
        "ax[2].plot(pred_sel_train_df[dep_var])\n",
        "ax[2].plot(pred_sel_test_df[[dep_var, 'Predictions']])"
      ],
      "execution_count": 0,
      "outputs": [
        {
          "output_type": "stream",
          "text": [
            "/usr/local/lib/python3.6/dist-packages/pandas/plotting/_converter.py:129: FutureWarning: Using an implicitly registered datetime converter for a matplotlib plotting method. The converter was registered by pandas on import. Future versions of pandas will require you to explicitly register matplotlib converters.\n",
            "\n",
            "To register the converters:\n",
            "\t>>> from pandas.plotting import register_matplotlib_converters\n",
            "\t>>> register_matplotlib_converters()\n",
            "  warnings.warn(msg, FutureWarning)\n"
          ],
          "name": "stderr"
        },
        {
          "output_type": "execute_result",
          "data": {
            "text/plain": [
              "[<matplotlib.lines.Line2D at 0x7fb7573a3c18>,\n",
              " <matplotlib.lines.Line2D at 0x7fb7573a3d68>]"
            ]
          },
          "metadata": {
            "tags": []
          },
          "execution_count": 31
        },
        {
          "output_type": "display_data",
          "data": {
            "image/png": "[encoded data removed]",
            "text/plain": [
              "<Figure size 1296x216 with 3 Axes>"
            ]
          },
          "metadata": {
            "tags": []
          }
        }
      ]
    }
  ]
}